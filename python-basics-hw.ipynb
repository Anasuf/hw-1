{
 "cells": [
  {
   "cell_type": "markdown",
   "metadata": {},
   "source": [
    "**Задание 1**. Даны 2 строки: *long_phrase* и *short_phrase*. \n",
    "Напишите код, который проверяет действительно ли длинная фраза *long_phrase* длиннее короткой *short_phrase*. И выводит *True* или *False* в зависимости от результата сравнения."
   ]
  },
  {
   "cell_type": "code",
   "execution_count": 1,
   "metadata": {},
   "outputs": [],
   "source": [
    "long_phrase = 'Насколько проще было бы писать программы, если бы не заказчики'\n",
    "short_phrase = '640Кб должно хватить для любых задач. Билл Гейтс (по легенде)'"
   ]
  },
  {
   "cell_type": "code",
   "execution_count": 2,
   "metadata": {},
   "outputs": [
    {
     "data": {
      "text/plain": [
       "True"
      ]
     },
     "execution_count": 2,
     "metadata": {},
     "output_type": "execute_result"
    }
   ],
   "source": [
    "len(long_phrase) > len(short_phrase)"
   ]
  },
  {
   "cell_type": "markdown",
   "metadata": {},
   "source": [
    "**Задание 2**. Дано значение объема файла в байтах. Напишите перевод этого значения в мегабайты в формате: \"*Объем файла равен 213.68Mb*\""
   ]
  },
  {
   "cell_type": "code",
   "execution_count": 10,
   "metadata": {},
   "outputs": [
    {
     "name": "stdout",
     "output_type": "stream",
     "text": [
      "Объем файла в байтах21368000000\n",
      "Объем файла равен 21368.0 Mb\n"
     ]
    }
   ],
   "source": [
    "user_input = int(input('Объем файла в байтах:'))\n",
    "mb = user_input * 0.000001  \n",
    "print('Объем файла равен', mb,'Mb')"
   ]
  },
  {
   "cell_type": "markdown",
   "metadata": {},
   "source": [
    "**Задание 3**. Разработать приложение для определения знака зодиака по дате рождения. Пример:\n",
    "\n",
    "Введите месяц: март\n",
    "\n",
    "Введите число: 6\n",
    "\n",
    "Вывод:\n",
    "Рыбы"
   ]
  },
  {
   "cell_type": "code",
   "execution_count": 20,
   "metadata": {},
   "outputs": [
    {
     "name": "stdout",
     "output_type": "stream",
     "text": [
      "Введите месяцМарт\n",
      "Введите число20\n",
      "Вывод: Рыбы\n"
     ]
    }
   ],
   "source": [
    "month = input('Введите месяц:')\n",
    "date = int(input('Введите число:'))\n",
    "if (month == 'Март' and 21 <= date <= 31) or (month == 'Апрель' and 1 <= date <= 20):\n",
    "    print('Вывод: Овен')\n",
    "elif (month == 'Апрель' and 21 <= date <= 30) or (month == 'Май' and 1 <= date <= 21):\n",
    "    print('Вывод: Телец')\n",
    "elif (month == 'Май' and 22 <= date <= 31) or (month == 'Июнь' and 1 <= date <= 21):\n",
    "    print('Вывод: Близнец')\n",
    "elif (month == 'Июнь' and 22 <= date <= 30) or (month == 'Июль' and 1 <= date <= 22):\n",
    "    print('Вывод: Рак')\n",
    "elif (month == 'Июль' and 23 <= date <= 31) or (month == 'Август' and 1 <= date <= 23):\n",
    "    print('Вывод: Лев')\n",
    "elif (month == 'Август' and 24 <= date <= 31) or (month == 'Сентябрь' and 1 <= date <= 22):\n",
    "    print('Вывод: Дева')\n",
    "elif (month == 'Сентябрь' and 23 <= date <= 30) or (month == 'Октябрь' and 1 <= date <= 23):\n",
    "    print('Вывод: Весы')\n",
    "elif (month == 'Октябрь' and 24 <= date <= 31) or (month == 'Ноябрь' and 1 <= date <= 22):\n",
    "    print('Вывод: Скорпион')\n",
    "elif (month == 'Ноябрь' and 23 <= date <= 30) or (month == 'Декабрь' and 1 <= date <= 21):\n",
    "    print('Вывод: Стрелец')\n",
    "elif (month == 'Декабрь' and 22 <= date <= 31) or (month == 'Январь' and 1 <= date <= 20):\n",
    "    print('Вывод: Козерог')\n",
    "elif (month == 'Январь' and 21 <= date <= 31) or (month == 'Февраль' and 1 <= date <= 18):\n",
    "    print('Вывод: Водолей')\n",
    "elif (month == 'Февраль' and 19 <= date <= 29) or (month == 'Март' and 1 <= date <= 20):\n",
    "    print('Вывод: Рыбы')"
   ]
  },
  {
   "cell_type": "markdown",
   "metadata": {},
   "source": [
    "**Задание 4**. Нужно разработать приложение для финансового планирования.\n",
    "Приложение учитывает сколько уходит на ипотеку, \"на жизнь\" и сколько нужно отложить на пенсию.\n",
    "Пользователь вводит:\n",
    "- заработанную плату в месяц.\n",
    "- сколько процентов от ЗП уходит на ипотеку.\n",
    "- сколько процентов от ЗП уходит \"на жизнь\".\n",
    "- сколько раз приходит премия в год.\n",
    "\n",
    "Остальная часть заработанной платы откладывается на пенсию.\n",
    "\n",
    "Также пользователю приходит премия в размере зарплаты, от которой половина уходит на отпуск, а вторая половина откладывается.\n",
    "\n",
    "Программа должна учитывать сколько премий было в год.\n",
    "\n",
    "Нужно вывести сколько денег тратит пользователь на ипотеку и сколько он накопит за год.\n",
    "\n",
    "Пример:\n",
    "\n",
    "Введите заработанную плату в месяц: 100000\n",
    "\n",
    "Введите сколько процентов уходит на ипотеку: 30\n",
    "\n",
    "Введите сколько процентов уходит на жизнь: 50\n",
    "\n",
    "Введите количество премий за год: 2\n",
    "\n",
    "Вывод:\n",
    "На ипотеку было потрачено: 360000 рублей\n",
    "Было накоплено: 340000 рублей"
   ]
  },
  {
   "cell_type": "code",
   "execution_count": 23,
   "metadata": {},
   "outputs": [
    {
     "name": "stdout",
     "output_type": "stream",
     "text": [
      "Введите заработанную плату в месяц:100000\n",
      "Введите сколько процентов уходит на ипотеку:30\n",
      "Введите сколько процентов уходит на жизнь:50\n",
      "Введите количество премий за год:2\n",
      "На ипотеку было потрачено: 360000.0 рублей\n",
      "Было накоплено: 340000.0 рублей\n"
     ]
    }
   ],
   "source": [
    "wage = int(input('Введите заработанную плату в месяц:'))\n",
    "mortgage = int(input('Введите сколько процентов уходит на ипотеку:'))\n",
    "life = int(input('Введите сколько процентов уходит на жизнь:'))\n",
    "N = int(input('Введите количество премий за год:'))\n",
    "\n",
    "mortgage_month = wage*(mortgage/100)\n",
    "mortgage_year = 12*mortgage_month\n",
    "life_year = 12*wage*(life/100)\n",
    "pension_year = 12*wage - mortgage_year - life_year\n",
    "accumulation_year = N*(wage*0.5) + pension_year\n",
    "\n",
    "print('На ипотеку было потрачено:', mortgage_year, 'рублей')\n",
    "print('Было накоплено:', accumulation_year, 'рублей')"
   ]
  },
  {
   "cell_type": "markdown",
   "metadata": {},
   "source": [
    "**Дополнительная задача №1**"
   ]
  },
  {
   "cell_type": "code",
   "execution_count": 25,
   "metadata": {},
   "outputs": [
    {
     "name": "stdout",
     "output_type": "stream",
     "text": [
      "Введите количество элементов игры:16\n",
      "1\n",
      "2\n",
      "Fizz\n",
      "4\n",
      "Buzz\n",
      "Fizz\n",
      "7\n",
      "8\n",
      "Fizz\n",
      "Buzz\n",
      "11\n",
      "Fizz\n",
      "13\n",
      "14\n",
      "FizzBuzz\n",
      "16\n"
     ]
    }
   ],
   "source": [
    "n = int(input('Введите количество элементов игры:'))\n",
    "for n in range(1,n+1):\n",
    "    if n % 3 == 0 and n % 5 == 0:\n",
    "        print('FizzBuzz')\n",
    "    elif n % 3 == 0:\n",
    "        print('Fizz')\n",
    "    elif n % 5 == 0:\n",
    "        print('Buzz')\n",
    "    else:\n",
    "        print(n)"
   ]
  },
  {
   "cell_type": "code",
   "execution_count": null,
   "metadata": {},
   "outputs": [],
   "source": []
  }
 ],
 "metadata": {
  "kernelspec": {
   "display_name": "Python 3",
   "language": "python",
   "name": "python3"
  },
  "language_info": {
   "codemirror_mode": {
    "name": "ipython",
    "version": 3
   },
   "file_extension": ".py",
   "mimetype": "text/x-python",
   "name": "python",
   "nbconvert_exporter": "python",
   "pygments_lexer": "ipython3",
   "version": "3.7.4"
  }
 },
 "nbformat": 4,
 "nbformat_minor": 2
}
